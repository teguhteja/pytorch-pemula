{
 "cells": [
  {
   "cell_type": "code",
   "execution_count": 1,
   "metadata": {},
   "outputs": [
    {
     "name": "stdout",
     "output_type": "stream",
     "text": [
      "/home/ttm/anaconda3/envs/pytorchenv/bin/python\n"
     ]
    }
   ],
   "source": [
    "import sys\n",
    "print(sys.executable)"
   ]
  },
  {
   "cell_type": "code",
   "execution_count": 3,
   "metadata": {},
   "outputs": [
    {
     "name": "stdout",
     "output_type": "stream",
     "text": [
      "Requirement already satisfied: ipykernel in /home/ttm/.local/lib/python3.8/site-packages (5.2.0)\n",
      "Requirement already satisfied: jupyter-client in /home/ttm/.local/lib/python3.8/site-packages (from ipykernel) (6.1.2)\n",
      "Requirement already satisfied: tornado>=4.2 in /home/ttm/.local/lib/python3.8/site-packages (from ipykernel) (6.0.4)\n",
      "Requirement already satisfied: traitlets>=4.1.0 in /home/ttm/anaconda3/envs/kerasenv/lib/python3.8/site-packages (from ipykernel) (4.3.3)\n",
      "Requirement already satisfied: ipython>=5.0.0 in /home/ttm/.local/lib/python3.8/site-packages (from ipykernel) (7.13.0)\n",
      "Requirement already satisfied: python-dateutil>=2.1 in /home/ttm/.local/lib/python3.8/site-packages (from jupyter-client->ipykernel) (2.8.1)\n",
      "Requirement already satisfied: jupyter-core>=4.6.0 in /home/ttm/anaconda3/envs/kerasenv/lib/python3.8/site-packages (from jupyter-client->ipykernel) (4.6.3)\n",
      "Requirement already satisfied: pyzmq>=13 in /home/ttm/.local/lib/python3.8/site-packages (from jupyter-client->ipykernel) (19.0.0)\n",
      "Requirement already satisfied: decorator in /home/ttm/anaconda3/envs/kerasenv/lib/python3.8/site-packages (from traitlets>=4.1.0->ipykernel) (4.4.2)\n",
      "Requirement already satisfied: six in /home/ttm/anaconda3/envs/kerasenv/lib/python3.8/site-packages (from traitlets>=4.1.0->ipykernel) (1.15.0)\n",
      "Requirement already satisfied: ipython-genutils in /home/ttm/anaconda3/envs/kerasenv/lib/python3.8/site-packages (from traitlets>=4.1.0->ipykernel) (0.2.0)\n",
      "Requirement already satisfied: prompt-toolkit!=3.0.0,!=3.0.1,<3.1.0,>=2.0.0 in /home/ttm/.local/lib/python3.8/site-packages (from ipython>=5.0.0->ipykernel) (3.0.5)\n",
      "Requirement already satisfied: setuptools>=18.5 in /home/ttm/anaconda3/envs/kerasenv/lib/python3.8/site-packages (from ipython>=5.0.0->ipykernel) (47.3.1.post20200616)\n",
      "Requirement already satisfied: jedi>=0.10 in /home/ttm/.local/lib/python3.8/site-packages (from ipython>=5.0.0->ipykernel) (0.16.0)\n",
      "Requirement already satisfied: backcall in /home/ttm/.local/lib/python3.8/site-packages (from ipython>=5.0.0->ipykernel) (0.1.0)\n",
      "Requirement already satisfied: pexpect; sys_platform != \"win32\" in /home/ttm/.local/lib/python3.8/site-packages (from ipython>=5.0.0->ipykernel) (4.8.0)\n",
      "Requirement already satisfied: pickleshare in /home/ttm/.local/lib/python3.8/site-packages (from ipython>=5.0.0->ipykernel) (0.7.5)\n",
      "Requirement already satisfied: pygments in /home/ttm/.local/lib/python3.8/site-packages (from ipython>=5.0.0->ipykernel) (2.6.1)\n",
      "Requirement already satisfied: wcwidth in /home/ttm/.local/lib/python3.8/site-packages (from prompt-toolkit!=3.0.0,!=3.0.1,<3.1.0,>=2.0.0->ipython>=5.0.0->ipykernel) (0.1.9)\n",
      "Requirement already satisfied: parso>=0.5.2 in /home/ttm/.local/lib/python3.8/site-packages (from jedi>=0.10->ipython>=5.0.0->ipykernel) (0.6.2)\n",
      "Requirement already satisfied: ptyprocess>=0.5 in /home/ttm/.local/lib/python3.8/site-packages (from pexpect; sys_platform != \"win32\"->ipython>=5.0.0->ipykernel) (0.6.0)\n",
      "Note: you may need to restart the kernel to use updated packages.\n"
     ]
    }
   ],
   "source": [
    "pip install --user ipykernel"
   ]
  },
  {
   "cell_type": "code",
   "execution_count": 4,
   "metadata": {},
   "outputs": [
    {
     "name": "stdout",
     "output_type": "stream",
     "text": [
      "Installed kernelspec pytorchenv in /home/ttm/.local/share/jupyter/kernels/pytorchenv\n"
     ]
    }
   ],
   "source": [
    "!python -m ipykernel install --user --name=pytorchenv"
   ]
  },
  {
   "cell_type": "code",
   "execution_count": 2,
   "metadata": {},
   "outputs": [
    {
     "name": "stdout",
     "output_type": "stream",
     "text": [
      "Available kernels:\n",
      "  kerasenv      /home/ttm/.local/share/jupyter/kernels/kerasenv\n",
      "  python3       /home/ttm/.local/share/jupyter/kernels/python3\n",
      "  pytorchenv    /home/ttm/.local/share/jupyter/kernels/pytorchenv\n"
     ]
    }
   ],
   "source": [
    "!jupyter kernelspec list"
   ]
  },
  {
   "cell_type": "code",
   "execution_count": 4,
   "metadata": {},
   "outputs": [],
   "source": [
    "import torch"
   ]
  },
  {
   "cell_type": "code",
   "execution_count": 5,
   "metadata": {},
   "outputs": [],
   "source": [
    "a = torch.tensor([1,2,3.0,4,5])"
   ]
  },
  {
   "cell_type": "code",
   "execution_count": null,
   "metadata": {},
   "outputs": [],
   "source": []
  }
 ],
 "metadata": {
  "kernelspec": {
   "display_name": "pytorchenv",
   "language": "python",
   "name": "pytorchenv"
  },
  "language_info": {
   "codemirror_mode": {
    "name": "ipython",
    "version": 3
   },
   "file_extension": ".py",
   "mimetype": "text/x-python",
   "name": "python",
   "nbconvert_exporter": "python",
   "pygments_lexer": "ipython3",
   "version": "3.7.7"
  }
 },
 "nbformat": 4,
 "nbformat_minor": 4
}
